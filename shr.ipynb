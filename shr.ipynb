{
 "cells": [
  {
   "cell_type": "code",
   "execution_count": 1,
   "metadata": {
    "collapsed": true
   },
   "outputs": [],
   "source": [
    "import pandas as pd"
   ]
  },
  {
   "cell_type": "code",
   "execution_count": 3,
   "metadata": {},
   "outputs": [
    {
     "name": "stdout",
     "output_type": "stream",
     "text": [
      "shr/shr_2015/shr_2015.xlsx\n",
      "shr/shr_2014/shr_2014.xlsx\n",
      "shr/shr_2013/shr_2013.xlsx\n",
      "shr/shr_2012/shr_2012.xlsx\n",
      "shr/shr_2011/shr_2011.xlsx\n",
      "shr/shr_2010/shr_2010.xlsx\n",
      "shr/shr_2009/shr_2009.xlsx\n",
      "shr/shr_2008/shr_2008.xlsx\n",
      "shr/shr_2007/shr_2007.xlsx\n",
      "shr/shr_2006/shr_2006.xlsx\n"
     ]
    }
   ],
   "source": [
    "FAMILY = \"family\"\n",
    "CIRCUMSTANCE = \"circ-\"\n",
    "\n",
    "columns = [\"V\" + str(x) for x in range(1, 153)]\n",
    "death_eligible_circumstances = { 3, 5, 2, 9, 46, 49, 48 }\n",
    "\n",
    "files = [\"shr/shr_2015/shr_2015.xlsx\", \"shr/shr_2014/shr_2014.xlsx\", \"shr/shr_2013/shr_2013.xlsx\", \"shr/shr_2012/shr_2012.xlsx\", \"shr/shr_2011/shr_2011.xlsx\", \"shr/shr_2010/shr_2010.xlsx\", \"shr/shr_2009/shr_2009.xlsx\", \"shr/shr_2008/shr_2008.xlsx\", \"shr/shr_2007/shr_2007.xlsx\", \"shr/shr_2006/shr_2006.xlsx\"]\n",
    "\n",
    "df = pd.DataFrame()\n",
    "for f in files:\n",
    "    print(f)\n",
    "    df_part = pd.read_excel(f)\n",
    "    df_part.columns = columns\n",
    "    df = df.append(df_part, ignore_index=True)"
   ]
  },
  {
   "cell_type": "code",
   "execution_count": 4,
   "metadata": {},
   "outputs": [
    {
     "name": "stdout",
     "output_type": "stream",
     "text": [
      "['V1', 'V2', 'V3', 'V4', 'V5', 'V6', 'V7', 'V8', 'V9', 'V10', 'V11', 'V12', 'V13', 'V14', 'V15', 'V16', 'V17', 'V18', 'V19', 'V20', 'V21', 'V22', 'V23', 'V24', 'V25', 'V26', 'V27', 'V28', 'V29', 'V30', 'V31', 'V32', 'V33', 'V34', 'V35', 'V36', 'V37', 'V38', 'V39', 'V40', 'V41', 'V42', 'V43', 'V44', 'V45', 'V46', 'V47', 'V48', 'V49', 'V50', 'V51', 'V52', 'V53', 'V54', 'V55', 'V56', 'V57', 'V58', 'V59', 'V60', 'V61', 'V62', 'V63', 'V64', 'V65', 'V66', 'V67', 'V68', 'V69', 'V70', 'V71', 'V72', 'V73', 'V74', 'V75', 'V76', 'V77', 'V78', 'V79', 'V80', 'V81', 'V82', 'V83', 'V84', 'V85', 'V86', 'V87', 'V88', 'V89', 'V90', 'V91', 'V92', 'V93', 'V94', 'V95', 'V96', 'V97', 'V98', 'V99', 'V100', 'V101', 'V102', 'V103', 'V104', 'V105', 'V106', 'V107', 'V108', 'V109', 'V110', 'V111', 'V112', 'V113', 'V114', 'V115', 'V116', 'V117', 'V118', 'V119', 'V120', 'V121', 'V122', 'V123', 'V124', 'V125', 'V126', 'V127', 'V128', 'V129', 'V130', 'V131', 'V132', 'V133', 'V134', 'V135', 'V136', 'V137', 'V138', 'V139', 'V140', 'V141', 'V142', 'V143', 'V144', 'V145', 'V146', 'V147', 'V148', 'V149', 'V150', 'V151', 'V152']\n"
     ]
    },
    {
     "data": {
      "text/html": [
       "<div>\n",
       "<style>\n",
       "    .dataframe thead tr:only-child th {\n",
       "        text-align: right;\n",
       "    }\n",
       "\n",
       "    .dataframe thead th {\n",
       "        text-align: left;\n",
       "    }\n",
       "\n",
       "    .dataframe tbody tr th {\n",
       "        vertical-align: top;\n",
       "    }\n",
       "</style>\n",
       "<table border=\"1\" class=\"dataframe\">\n",
       "  <thead>\n",
       "    <tr style=\"text-align: right;\">\n",
       "      <th></th>\n",
       "      <th>V1</th>\n",
       "      <th>V2</th>\n",
       "      <th>V3</th>\n",
       "      <th>V4</th>\n",
       "      <th>V5</th>\n",
       "      <th>V6</th>\n",
       "      <th>V7</th>\n",
       "      <th>V8</th>\n",
       "      <th>V9</th>\n",
       "      <th>V10</th>\n",
       "      <th>...</th>\n",
       "      <th>V143</th>\n",
       "      <th>V144</th>\n",
       "      <th>V145</th>\n",
       "      <th>V146</th>\n",
       "      <th>V147</th>\n",
       "      <th>V148</th>\n",
       "      <th>V149</th>\n",
       "      <th>V150</th>\n",
       "      <th>V151</th>\n",
       "      <th>V152</th>\n",
       "    </tr>\n",
       "  </thead>\n",
       "  <tbody>\n",
       "    <tr>\n",
       "      <th>0</th>\n",
       "      <td>6</td>\n",
       "      <td>1</td>\n",
       "      <td>AL00112</td>\n",
       "      <td>3</td>\n",
       "      <td>6</td>\n",
       "      <td>2015</td>\n",
       "      <td>85163</td>\n",
       "      <td>37</td>\n",
       "      <td>98</td>\n",
       "      <td>0</td>\n",
       "      <td>...</td>\n",
       "      <td></td>\n",
       "      <td></td>\n",
       "      <td></td>\n",
       "      <td></td>\n",
       "      <td></td>\n",
       "      <td></td>\n",
       "      <td></td>\n",
       "      <td></td>\n",
       "      <td></td>\n",
       "      <td></td>\n",
       "    </tr>\n",
       "    <tr>\n",
       "      <th>1</th>\n",
       "      <td>6</td>\n",
       "      <td>1</td>\n",
       "      <td>AL00112</td>\n",
       "      <td>3</td>\n",
       "      <td>6</td>\n",
       "      <td>2015</td>\n",
       "      <td>85163</td>\n",
       "      <td>37</td>\n",
       "      <td>98</td>\n",
       "      <td>0</td>\n",
       "      <td>...</td>\n",
       "      <td></td>\n",
       "      <td></td>\n",
       "      <td></td>\n",
       "      <td></td>\n",
       "      <td></td>\n",
       "      <td></td>\n",
       "      <td></td>\n",
       "      <td></td>\n",
       "      <td></td>\n",
       "      <td></td>\n",
       "    </tr>\n",
       "    <tr>\n",
       "      <th>2</th>\n",
       "      <td>6</td>\n",
       "      <td>1</td>\n",
       "      <td>AL00112</td>\n",
       "      <td>3</td>\n",
       "      <td>6</td>\n",
       "      <td>2015</td>\n",
       "      <td>85163</td>\n",
       "      <td>37</td>\n",
       "      <td>98</td>\n",
       "      <td>0</td>\n",
       "      <td>...</td>\n",
       "      <td></td>\n",
       "      <td></td>\n",
       "      <td></td>\n",
       "      <td></td>\n",
       "      <td></td>\n",
       "      <td></td>\n",
       "      <td></td>\n",
       "      <td></td>\n",
       "      <td></td>\n",
       "      <td></td>\n",
       "    </tr>\n",
       "    <tr>\n",
       "      <th>3</th>\n",
       "      <td>6</td>\n",
       "      <td>2</td>\n",
       "      <td>AZ00189</td>\n",
       "      <td>7</td>\n",
       "      <td>8</td>\n",
       "      <td>2015</td>\n",
       "      <td>0</td>\n",
       "      <td></td>\n",
       "      <td></td>\n",
       "      <td>0</td>\n",
       "      <td>...</td>\n",
       "      <td></td>\n",
       "      <td></td>\n",
       "      <td></td>\n",
       "      <td></td>\n",
       "      <td></td>\n",
       "      <td></td>\n",
       "      <td></td>\n",
       "      <td></td>\n",
       "      <td></td>\n",
       "      <td></td>\n",
       "    </tr>\n",
       "    <tr>\n",
       "      <th>4</th>\n",
       "      <td>6</td>\n",
       "      <td>2</td>\n",
       "      <td>AZ00189</td>\n",
       "      <td>7</td>\n",
       "      <td>8</td>\n",
       "      <td>2015</td>\n",
       "      <td>0</td>\n",
       "      <td></td>\n",
       "      <td></td>\n",
       "      <td>0</td>\n",
       "      <td>...</td>\n",
       "      <td></td>\n",
       "      <td></td>\n",
       "      <td></td>\n",
       "      <td></td>\n",
       "      <td></td>\n",
       "      <td></td>\n",
       "      <td></td>\n",
       "      <td></td>\n",
       "      <td></td>\n",
       "      <td></td>\n",
       "    </tr>\n",
       "  </tbody>\n",
       "</table>\n",
       "<p>5 rows × 152 columns</p>\n",
       "</div>"
      ],
      "text/plain": [
       "   V1  V2       V3 V4  V5    V6     V7  V8  V9  V10 ...  V143 V144  V145  \\\n",
       "0   6   1  AL00112  3   6  2015  85163  37  98    0 ...                    \n",
       "1   6   1  AL00112  3   6  2015  85163  37  98    0 ...                    \n",
       "2   6   1  AL00112  3   6  2015  85163  37  98    0 ...                    \n",
       "3   6   2  AZ00189  7   8  2015      0            0 ...                    \n",
       "4   6   2  AZ00189  7   8  2015      0            0 ...                    \n",
       "\n",
       "   V146  V147 V148  V149 V150 V151 V152  \n",
       "0                                        \n",
       "1                                        \n",
       "2                                        \n",
       "3                                        \n",
       "4                                        \n",
       "\n",
       "[5 rows x 152 columns]"
      ]
     },
     "execution_count": 4,
     "metadata": {},
     "output_type": "execute_result"
    }
   ],
   "source": [
    "print(list(df.columns))\n",
    "df.head()"
   ]
  },
  {
   "cell_type": "code",
   "execution_count": 22,
   "metadata": {},
   "outputs": [],
   "source": [
    "death_eligible_circumstances = { 3, 5, 2, 9, 46, 49, 48 }\n",
    "fam_cases = {\"BF\", \"BR\", \"CH\", \"CW\", \"DA\", \"FA\", \"GF\", \"HO\", \"HU\", \"MO\", \"SD\", \"SF\", \"SI\", \"MO\", \"SO\", \"SS\", \"WI\" }\n",
    "circumstance_columns = [\"V29\",\"V79\",\"V87\",\"V95\",\"V103\",\"V111\",\"V119\",\"V127\",\"V135\",\"V143\",\"V151\"]\n",
    "fam_columns = [\"V28\",\"V78\",\"V86\",\"V94\",\"V102\",\"V110\",\"V118\",\"V126\",\"V134\",\"V142\",\"V150\"]\n",
    "age_columns = [\"V19\", \"V33\", \"V37\", \"V41\", \"V45\", \"V49\", \"V53\", \"V57\", \"V61\", \"V65\", \"V69\"]\n",
    "offender_age_columns = [\"V23\",\"V73\",\"V81\",\"V89\",\"V97\",\"V105\",\"V113\",\"V121\",\"V129\",\"V137\",\"V145\"]\n",
    "\n",
    "\n",
    "def label_unique(row):\n",
    "    return '' + row['V3'] + '-' + str(row['V17'])\n",
    "\n",
    "def label_death_eligible(row):    \n",
    "    num_18 = count_under_18(row)\n",
    "    \n",
    "    counts = createDeathMap();\n",
    "    \n",
    "    if not check_offender_age(row): #stops if all perps are less than 18\n",
    "        return counts\n",
    "    \n",
    "    if row['V31'] > 0 or check_age(row): #multiple victims or very young victim\n",
    "        counts[\"MULT_VICTIMS\"] += 1 + row['V32'] - num_18\n",
    "        return counts;\n",
    "    return check_circumstance(row, counts) #based on circumstance of each perp\n",
    "\n",
    "def createDeathMap():\n",
    "    maps = { circ : 0 for circ in death_eligible_circumstances }\n",
    "    maps[\"MULT_VICTIMS\"] = 0\n",
    "    maps[FAMILY] = 0\n",
    "    return maps\n",
    "\n",
    "def check_circumstance(row, counts):    \n",
    "    for column in zip(age_columns, circumstance_columns, fam_columns):\n",
    "        if (circumstance_help(row[column[1]]) and offender_age_help(column[0])):\n",
    "            counts[row[column[1]]] += 1\n",
    "        elif offender_age_help(column[0]) and fam_help(column[2]):\n",
    "            counts[FAMILY] += 1\n",
    "    return counts\n",
    "\n",
    "def fam_help(val):\n",
    "    return val in fam_cases\n",
    "\n",
    "def circumstance_help(val):\n",
    "    return val in death_eligible_circumstances\n",
    "\n",
    "def check_age(row):\n",
    "    for column in age_columns:\n",
    "        if (age_help(row[column])):\n",
    "            return True\n",
    "    return False\n",
    "\n",
    "def age_help(val):\n",
    "    return val != ' ' and (val == 'BB' or val == 'NB' or (val <= 6 and val != 0))\n",
    "\n",
    "def check_offender_age(row):\n",
    "    for off_age in offender_age_columns:\n",
    "        if offender_age_help(row[off_age]):\n",
    "            return True;\n",
    "    return False;\n",
    "    \n",
    "def offender_age_help(val):\n",
    "    return val != ' ' and type(val) == int and (val == 0 or val >= 18)\n",
    "\n",
    "def count_under_18(row):\n",
    "    count = 0\n",
    "    for col in offender_age_columns:\n",
    "        val = row[col]\n",
    "        if val != ' ' and type(val) == int and (val != 0 and val < 18):\n",
    "            count += 1\n",
    "    return count"
   ]
  },
  {
   "cell_type": "code",
   "execution_count": 23,
   "metadata": {},
   "outputs": [],
   "source": [
    "df[\"MAPS\"] = df.apply(label_death_eligible, axis=1)"
   ]
  },
  {
   "cell_type": "code",
   "execution_count": 21,
   "metadata": {},
   "outputs": [
    {
     "data": {
      "text/plain": [
       "array([37, ' ', 2, 3, 4, 5, 7, 8, 9, 10, 11, 13, 14, 12, 15, 16, 17, 18,\n",
       "       19, 21, 22, 23, 24, 26, 28, 29, 32, 34, 35, 36, 42, 43, 44, 46, 47,\n",
       "       54, 58, 60, 61, 63, 64, 66, 70, 72, 73, 1, 20, 27, 30, 31, 33, 38,\n",
       "       39, 40, 41, 45, 48, 49, 50, 51, 52, 53, 56, 57, 59, 62, 6, 300, 25,\n",
       "       67, 69, 71, 74, 75, 76, 77, 85, 87, 89, 91, 92, 94, 95, 97, 99, 100,\n",
       "       104, 106, 107, 110, 111, 113, 114, 117, 122, 125, 126, 129, 135,\n",
       "       136, 137, 141, 144, 146, 148, 150, 151, 155, 157, 159, 101, 78, 79,\n",
       "       82, 84, 68, 88, 90, 81, 103, 105, 93, 98, 109, 118, 120, 55, 80, 83,\n",
       "       65, 86, 96, 205, 102, 108, 112, 119, 123, 128, 133, 139, 143, 152,\n",
       "       161, 162, 163, 165, 166, 168, 170, 171, 172, 174, 178, 181, 183,\n",
       "       184, 185, 186, 187, 188, 191, 194, 195, 200, 201, 210, 212, 213,\n",
       "       214, 220, 221, 223, 226, 227, 228, 230, 232, 233, 235, 236, 237,\n",
       "       238, 240, 241, 243, 246, 248, 249, 252, 253, 121, 127, 138, 147,\n",
       "       154, 156, 115, 116, 134, 142, 158, 169, 176, 202, 203, 208, 229,\n",
       "       234, 239, 245, 250, 153, 149, 175, 196, 198, 199, 204, 209, 219,\n",
       "       242, 251, 124, 130, 145, 140, 182, 193, 206, 244, 247, 254, 177,\n",
       "       224, 164, 179, 215, 225, 132, 190, 218, 222, 231], dtype=object)"
      ]
     },
     "execution_count": 21,
     "metadata": {},
     "output_type": "execute_result"
    }
   ],
   "source": [
    "df[\"V8\"].unique()"
   ]
  },
  {
   "cell_type": "code",
   "execution_count": 25,
   "metadata": {},
   "outputs": [],
   "source": [
    "COUNTY = \"V8\"\n",
    "YEAR = \"V6\"\n",
    "death_eligible_circumstances = { 3, 5, 2, 9, 46, 49, 48 }\n",
    "\n",
    "\n",
    "newDF = { 'YEAR' : [],\n",
    "        'COUNTY' : [],\n",
    "         'RAPE' : [],\n",
    "         'ROBBERY' : [],\n",
    "         'BURGLARY' : [],\n",
    "         'ARSON' : [],\n",
    "         'GANG' : [],\n",
    "         \"ISTITUTIONAL\" : [],\n",
    "         \"SNIPER\" : [],\n",
    "         \"MULT_VICTIMS\" : [],\n",
    "         \"FAMILY\" : []\n",
    "        }\n",
    "\n",
    "for county in df[COUNTY].unique():\n",
    "    for year in df[YEAR].unique():\n",
    "        counts = createDeathMap()\n",
    "        \n",
    "        sel = df.loc[(df[YEAR] == year) & (df[COUNTY] == county)]\n",
    "        \n",
    "        for row in sel.itertuples(index = 1):\n",
    "            maps = getattr(row, \"MAPS\")\n",
    "            for key in maps:\n",
    "                counts[key] += maps[key]\n",
    "        \n",
    "        \n",
    "        newDF['YEAR'].append(year)\n",
    "        newDF['COUNTY'].append(county)\n",
    "        newDF['RAPE'].append(counts[2])\n",
    "        newDF['ROBBERY'].append(counts[3])\n",
    "        newDF['BURGLARY'].append(counts[5])\n",
    "        newDF['ARSON'].append(counts[9])\n",
    "        newDF['GANG'].append(counts[46])\n",
    "        newDF[\"ISTITUTIONAL\"].append(counts[48])\n",
    "        newDF[\"SNIPER\"].append(counts[49])\n",
    "        newDF[\"MULT_VICTIMS\"].append(counts['MULT_VICTIMS'])\n",
    "        newDF[\"FAMILY\"].append(counts[FAMILY])\n"
   ]
  },
  {
   "cell_type": "code",
   "execution_count": 30,
   "metadata": {},
   "outputs": [
    {
     "data": {
      "text/plain": [
       "True"
      ]
     },
     "execution_count": 30,
     "metadata": {},
     "output_type": "execute_result"
    }
   ],
   "source": [
    "len(df[COUNTY].unique()) * len(df[YEAR].unique()) == len(newDF['YEAR'])"
   ]
  },
  {
   "cell_type": "code",
   "execution_count": 13,
   "metadata": {},
   "outputs": [
    {
     "data": {
      "text/plain": [
       "0     115789\n",
       "1      15637\n",
       "2       3227\n",
       "3       1067\n",
       "4        481\n",
       "5        114\n",
       "6         59\n",
       "7         20\n",
       "8         17\n",
       "9          4\n",
       "10         3\n",
       "11         1\n",
       "Name: death_eligible_count, dtype: int64"
      ]
     },
     "execution_count": 13,
     "metadata": {},
     "output_type": "execute_result"
    }
   ],
   "source": [
    "df['death_eligible_count'].value_counts()"
   ]
  },
  {
   "cell_type": "code",
   "execution_count": 31,
   "metadata": {
    "collapsed": true
   },
   "outputs": [],
   "source": [
    "agg = pd.DataFrame(data=newDF)\n",
    "# agg.to_csv(\"shr_agg.csv\")"
   ]
  },
  {
   "cell_type": "code",
   "execution_count": 34,
   "metadata": {},
   "outputs": [],
   "source": [
    "agg.to_csv(\"shr_agg.csv\")"
   ]
  },
  {
   "cell_type": "code",
   "execution_count": 15,
   "metadata": {},
   "outputs": [
    {
     "data": {
      "text/plain": [
       "2006    15076\n",
       "2007    14977\n",
       "2008    14336\n",
       "2009    13858\n",
       "2015    13844\n",
       "2010    13300\n",
       "2012    13063\n",
       "2011    12887\n",
       "2013    12546\n",
       "2014    12532\n",
       "Name: V6, dtype: int64"
      ]
     },
     "execution_count": 15,
     "metadata": {},
     "output_type": "execute_result"
    }
   ],
   "source": [
    "df['V6'].value_counts()"
   ]
  },
  {
   "cell_type": "code",
   "execution_count": null,
   "metadata": {
    "collapsed": true
   },
   "outputs": [],
   "source": []
  }
 ],
 "metadata": {
  "kernelspec": {
   "display_name": "Python 3",
   "language": "python",
   "name": "python3"
  },
  "language_info": {
   "codemirror_mode": {
    "name": "ipython",
    "version": 3
   },
   "file_extension": ".py",
   "mimetype": "text/x-python",
   "name": "python",
   "nbconvert_exporter": "python",
   "pygments_lexer": "ipython3",
   "version": "3.6.2"
  }
 },
 "nbformat": 4,
 "nbformat_minor": 2
}
